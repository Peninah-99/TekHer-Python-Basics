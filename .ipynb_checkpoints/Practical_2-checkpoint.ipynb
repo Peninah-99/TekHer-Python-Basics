{
 "cells": [
  {
   "cell_type": "markdown",
   "id": "d68c1dee",
   "metadata": {},
   "source": [
    "# Practical_2: String and files"
   ]
  },
  {
   "cell_type": "markdown",
   "id": "bea983a3",
   "metadata": {},
   "source": [
    "---\n",
    "\n",
    "### Exercise 1:\n",
    "Create a string variable `text` and assign it the value `\"Python is amazing!\"`.\n",
    "\n",
    "```python\n",
    "# Exercise 1\n",
    "```\n",
    "\n",
    "---\n",
    "\n",
    "### Exercise 2:\n",
    "Find the length of the string `\"Hello, World!\"` and store it in a variable `length`.\n",
    "\n",
    "```python\n",
    "# Exercise 2\n",
    "```\n",
    "\n",
    "---\n",
    "\n",
    "### Exercise 3:\n",
    "Convert the string `\"python programming\"` to uppercase and store it in a variable `upper_text`.\n",
    "\n",
    "```python\n",
    "# Exercise 3\n",
    "```\n",
    "\n",
    "---\n",
    "\n",
    "### Exercise 4:\n",
    "Extract the first 5 characters from the string `\"Artificial Intelligence\"`.\n",
    "\n",
    "```python\n",
    "# Exercise 4\n",
    "```\n",
    "\n",
    "---\n",
    "\n",
    "### Exercise 5:\n",
    "Concatenate the strings `\"Hello\"` and `\"World\"` with a space in between.\n",
    "\n",
    "```python\n",
    "# Exercise 5\n",
    "```\n",
    "\n",
    "---\n",
    "\n",
    "### Exercise 6:\n",
    "Replace the word `\"dog\"` with `\"cat\"` in the string `\"The quick brown dog jumps over the lazy dog.\"`.\n",
    "\n",
    "```python\n",
    "# Exercise 6\n",
    "```\n",
    "\n",
    "---\n",
    "\n",
    "### Exercise 7:\n",
    "Split the string `\"apple,banana,orange\"` by commas and store the result in a list `fruits_list`.\n",
    "\n",
    "```python\n",
    "# Exercise 7\n",
    "```\n",
    "\n",
    "---\n",
    "\n",
    "### Exercise 8:\n",
    "Use string formatting to create the sentence `\"My name is Alice and I am 25 years old.\"`, where the name and age are variables.\n",
    "\n",
    "```python\n",
    "# Exercise 8\n",
    "```\n",
    "\n",
    "---\n",
    "\n",
    "### Exercise 9:\n",
    "Check if the string `\"python\"` is present in the sentence `\"I love python programming\"`.\n",
    "\n",
    "```python\n",
    "# Exercise 9\n",
    "```\n",
    "\n",
    "---\n",
    "\n",
    "### Exercise 10:\n",
    "Count the number of occurrences of the letter `\"e\"` in the string `\"Elephant is an elegant animal\"`.\n",
    "\n",
    "```python\n",
    "# Exercise 10\n",
    "```\n",
    "\n",
    "---\n",
    "\n",
    "### Exercise 11:\n",
    "Remove any leading and trailing spaces from the string `\"   Data Science   \"`.\n",
    "\n",
    "```python\n",
    "# Exercise 11\n",
    "```\n",
    "\n",
    "---\n",
    "\n",
    "### Exercise 12:\n",
    "Convert the string `\"100\"` into an integer and store it in a variable `int_value`.\n",
    "\n",
    "```python\n",
    "# Exercise 12\n",
    "```\n",
    "\n",
    "---\n",
    "\n",
    "### Exercise 13:\n",
    "Extract the substring `\"pro\"` from the string `\"programming\"`.\n",
    "\n",
    "```python\n",
    "# Exercise 13\n",
    "```\n",
    "\n",
    "---\n",
    "\n",
    "### Exercise 14:\n",
    "Check if the string `\"data\"` starts with `\"da\"` and ends with `\"ta\"`.\n",
    "\n",
    "```python\n",
    "# Exercise 14\n",
    "```\n",
    "\n",
    "---\n",
    "\n",
    "### Exercise 15:\n",
    "Reverse the string `\"machine learning\"` and store the result in `reversed_text`.\n",
    "\n",
    "```python\n",
    "# Exercise 15\n",
    "```\n",
    "\n",
    "---\n",
    "\n",
    "### Exercise 16:\n",
    "Convert the first letter of each word in the string `\"machine learning is fun\"` to uppercase.\n",
    "\n",
    "```python\n",
    "# Exercise 16\n",
    "```\n",
    "\n",
    "---\n",
    "\n",
    "### Exercise 17:\n",
    "Create a multiline string representing a poem and store it in a variable `poem`.\n",
    "\n",
    "```python\n",
    "# Exercise 17\n",
    "```\n",
    "\n",
    "---\n",
    "\n",
    "### Exercise 18:\n",
    "Write a string to a file named `\"output.txt\"`.\n",
    "\n",
    "```python\n",
    "# Exercise 18\n",
    "```\n",
    "\n",
    "---\n",
    "\n",
    "### Exercise 19:\n",
    "Read the contents of a file named `\"data.txt\"` and print it line by line.\n",
    "\n",
    "```python\n",
    "# Exercise 19\n",
    "```\n",
    "\n",
    "---\n",
    "\n",
    "### Exercise 20:\n",
    "Check if a file `\"example.txt\"` exists before opening it.\n",
    "\n",
    "```python\n",
    "# Exercise 20\n",
    "```\n",
    "\n",
    "---\n",
    "\n",
    "### Exercise 21:\n",
    "Append a new line `\"This is a new line\"` to an existing file `\"notes.txt\"`.\n",
    "\n",
    "```python\n",
    "# Exercise 21\n",
    "```\n",
    "\n",
    "---\n",
    "\n",
    "### Exercise 22:\n",
    "Read the contents of a file `\"log.txt\"` and store each line in a list `log_lines`.\n",
    "\n",
    "```python\n",
    "# Exercise 22\n",
    "```\n",
    "\n",
    "---\n",
    "\n",
    "### Exercise 23:\n",
    "Create a new file `\"report.txt\"` and write the string `\"Data analysis report\"` to it.\n",
    "\n",
    "```python\n",
    "# Exercise 23\n",
    "```\n",
    "\n",
    "---\n",
    "\n",
    "### Exercise 24:\n",
    "Replace the word `\"error\"` with `\"issue\"` in a file `\"log.txt\"`.\n",
    "\n",
    "```python\n",
    "# Exercise 24\n",
    "```\n",
    "\n",
    "---\n",
    "\n",
    "### Exercise 25:\n",
    "Count the number of words in a text file `\"document.txt\"`.\n",
    "\n",
    "```python\n",
    "# Exercise 25\n",
    "```\n",
    "\n",
    "---\n",
    "\n",
    "### Exercise 26:\n",
    "Write a Python script that reads a file `\"essay.txt\"` and prints the total number of lines, words, and characters.\n",
    "\n",
    "```python\n",
    "# Exercise 26\n",
    "```\n",
    "\n",
    "---\n",
    "\n",
    "### Exercise 27:\n",
    "Copy the contents of one file `\"source.txt\"` to another file `\"destination.txt\"`.\n",
    "\n",
    "```python\n",
    "# Exercise 27\n",
    "```\n",
    "\n",
    "---\n",
    "\n",
    "### Exercise 28:\n",
    "Write a Python function that takes a filename as input and returns the number of lines in the file.\n",
    "\n",
    "```python\n",
    "# Exercise 28\n",
    "```\n",
    "\n",
    "---\n",
    "\n",
    "### Exercise 29:\n",
    "Extract all the words from a text file `\"article.txt\"` that contain more than 5 characters.\n",
    "\n",
    "```python\n",
    "# Exercise 29\n",
    "```\n",
    "\n",
    "---\n",
    "\n",
    "### Exercise 30:\n",
    "Convert the contents of a file `\"notes.txt\"` to uppercase and save the result in another file `\"uppercase_notes.txt\"`.\n",
    "\n",
    "```python\n",
    "# Exercise 30\n",
    "```\n",
    "\n",
    "---\n",
    "\n",
    "### Exercise 31:\n",
    "Write a Python script that reads a file and removes all empty lines.\n",
    "\n",
    "```python\n",
    "# Exercise 31\n",
    "```\n",
    "\n",
    "---\n",
    "\n",
    "### Exercise 32:\n",
    "Open a file `\"config.txt\"` in both read and write mode.\n",
    "\n",
    "```python\n",
    "# Exercise 32\n",
    "```\n",
    "\n",
    "---\n",
    "\n",
    "### Exercise 33:\n",
    "Write a Python function that reads a file and prints the longest line in the file.\n",
    "\n",
    "```python\n",
    "# Exercise 33\n",
    "```\n",
    "\n",
    "---\n",
    "\n",
    "### Exercise 34:\n",
    "Write a Python script to count the frequency of each letter in a text file `\"message.txt\"`.\n",
    "\n",
    "```python\n",
    "# Exercise 34\n",
    "```\n",
    "\n",
    "---\n",
    "\n",
    "### Exercise 35:\n",
    "Write a Python script that reads a file and prints the total number of characters, excluding spaces.\n",
    "\n",
    "```python\n",
    "# Exercise 35\n",
    "```\n",
    "\n",
    "---\n",
    "\n",
    "### Exercise 36:\n",
    "Create a Python script to check whether a file is empty or not.\n",
    "\n",
    "```python\n",
    "# Exercise 36\n",
    "```\n",
    "\n",
    "---\n",
    "\n",
    "### Exercise 37:\n",
    "Write a Python function that reads a file and removes all punctuation marks from the text.\n",
    "\n",
    "```python\n",
    "# Exercise 37\n",
    "```\n",
    "\n",
    "---\n",
    "\n",
    "### Exercise 38:\n",
    "Create a Python function that writes a list of strings to a file, each string on a new line.\n",
    "\n",
    "```python\n",
    "# Exercise 38\n",
    "```\n",
    "\n",
    "---\n",
    "\n",
    "### Exercise 39:\n",
    "Write a Python script to count the number of lines that start with a specific letter (e.g., \"A\") in a text file.\n",
    "\n",
    "```python\n",
    "# Exercise 39\n",
    "```\n",
    "\n",
    "---\n",
    "\n",
    "### Exercise 40:\n",
    "Write a Python function that takes a string as input and writes it to a file `\"output.txt\"` in reverse order.\n",
    "\n",
    "```python\n",
    "# Exercise 40\n",
    "```\n",
    "\n",
    "---\n",
    "\n",
    "### Exercise 41:\n",
    "Write a Python script that reads a file and prints all the lines that contain the word `\"Python\"`.\n",
    "\n",
    "```python\n",
    "# Exercise 41\n",
    "```\n",
    "\n",
    "---\n",
    "\n",
    "### Exercise 42:\n",
    "Write a Python script that opens a file and removes all numeric digits from the file's content.\n",
    "\n",
    "```python\n",
    "# Exercise 42\n",
    "```\n",
    "\n",
    "---\n",
    "\n",
    "### Exercise 43:\n",
    "Write a Python script to find the most frequent word in a text file `\"book.txt\"`.\n",
    "\n",
    "```python\n",
    "# Exercise 43\n",
    "```\n",
    "\n",
    "---\n",
    "\n",
    "### Exercise 44:\n",
    "Write a Python script that reads a file and prints all the lines that contain exactly 5 words.\n",
    "\n",
    "```python\n",
    "# Exercise 44\n",
    "```\n",
    "\n",
    "---\n",
    "\n",
    "### Exercise 45:\n",
    "Write a Python script to read a file and print the first and last line of the file.\n",
    "\n",
    "```python\n",
    "# Exercise 45\n",
    "```\n",
    "\n",
    "---\n",
    "\n",
    "### Exercise 46:\n",
    "Write a Python script that checks if a file `\"students.txt\"` is writable.\n",
    "\n",
    "```python\n",
    "# Exercise 46\n",
    "```\n",
    "\n",
    "---\n",
    "\n",
    "### Exercise 47:\n",
    "Create a Python function that opens a file and returns the number of unique words in the file.\n",
    "\n",
    "```python\n",
    "# Exercise 47\n",
    "```\n",
    "\n",
    "---\n",
    "\n",
    "### Exercise 48:\n",
    "Write a Python script that reads a file and prints all lines in reverse order.\n",
    "\n",
    "```python\n",
    "# Exercise 48\n",
    "```\n",
    "\n",
    "---\n",
    "\n",
    "### Exercise 49:\n",
    "Write a Python function that reads a file and returns the most common letter in the text.\n",
    "\n",
    "```python\n",
    "# Exercise 49\n",
    "```\n",
    "\n",
    "---\n",
    "\n",
    "### Exercise 50:\n",
    "Write a Python script that reads a file and replaces every occurrence of `\"Python\"` with `\"Java\"`.\n",
    "\n",
    "```python\n",
    "# Exercise 50\n",
    "```\n",
    "\n",
    "---\n",
    "\n"
   ]
  },
  {
   "cell_type": "markdown",
   "id": "f137ce22-d3f0-4ff5-b08e-6ce4b2866387",
   "metadata": {},
   "source": [
    "# Exercise 1 "
   ]
  },
  {
   "cell_type": "code",
   "execution_count": 54,
   "id": "16268447-82cb-4143-b5cb-5c94b58a40b5",
   "metadata": {},
   "outputs": [
    {
     "name": "stdout",
     "output_type": "stream",
     "text": [
      "text: Python is amazing!\n"
     ]
    }
   ],
   "source": [
    "text = \"Python is amazing!\"\n",
    "print(\"text:\", text)"
   ]
  },
  {
   "cell_type": "markdown",
   "id": "52e67ea1-64e5-48ac-8b08-5262af09122b",
   "metadata": {},
   "source": [
    "# Exercise 2"
   ]
  },
  {
   "cell_type": "code",
   "execution_count": 56,
   "id": "6efc5255-bdc3-4325-b2f1-f7b3154252ee",
   "metadata": {},
   "outputs": [
    {
     "name": "stdout",
     "output_type": "stream",
     "text": [
      "length: 13\n"
     ]
    }
   ],
   "source": [
    "length = len(\"Hello, World!\")\n",
    "print(\"length:\", length)"
   ]
  },
  {
   "cell_type": "markdown",
   "id": "51e1eebc-f481-4447-af34-08208c156756",
   "metadata": {},
   "source": [
    "# Exercise 3"
   ]
  },
  {
   "cell_type": "code",
   "execution_count": 58,
   "id": "3eb7a666-e0c7-494f-99a9-55696ef3a2b4",
   "metadata": {},
   "outputs": [
    {
     "name": "stdout",
     "output_type": "stream",
     "text": [
      "uper_text: PYTHON PROGRAMMING\n"
     ]
    }
   ],
   "source": [
    "upper_text = \"python programming\".upper()\n",
    "print(\"uper_text:\", upper_text)"
   ]
  },
  {
   "cell_type": "markdown",
   "id": "90aa861c-cd3e-441a-bed4-5d10c63388ef",
   "metadata": {},
   "source": [
    "# Exercise 4"
   ]
  },
  {
   "cell_type": "code",
   "execution_count": 60,
   "id": "4babc2f7-2613-4606-96a2-300945079730",
   "metadata": {},
   "outputs": [
    {
     "name": "stdout",
     "output_type": "stream",
     "text": [
      "First_five: Artif\n"
     ]
    }
   ],
   "source": [
    "first_five = \"Artificial intelligence\"[ :5]\n",
    "print(\"First_five:\", first_five)"
   ]
  },
  {
   "cell_type": "markdown",
   "id": "ef1c425b-2e95-48ad-84f7-e53f1528946d",
   "metadata": {},
   "source": [
    "# Exercise 5"
   ]
  },
  {
   "cell_type": "code",
   "execution_count": 62,
   "id": "8906477e-a2a4-4864-a29f-050d6f8db64e",
   "metadata": {},
   "outputs": [
    {
     "name": "stdout",
     "output_type": "stream",
     "text": [
      "Concatenate: Hello World\n"
     ]
    }
   ],
   "source": [
    "greeting = \"Hello\" + \" \" + \"World\"\n",
    "print(\"Concatenate:\", greeting)"
   ]
  },
  {
   "cell_type": "markdown",
   "id": "df8b70fa-a242-4a2c-a82f-5cd7889bd258",
   "metadata": {},
   "source": [
    "# Exercise 6"
   ]
  },
  {
   "cell_type": "code",
   "execution_count": 64,
   "id": "f8f7e718-7cc1-4e12-b0fd-3b96aab2c941",
   "metadata": {},
   "outputs": [
    {
     "name": "stdout",
     "output_type": "stream",
     "text": [
      "New_sentence: The quick brown cat jumps over the lazy doy.\n"
     ]
    }
   ],
   "source": [
    "sentence = \"The quick brown dog jumps over the lazy doy.\".replace(\"dog\", \"cat\")\n",
    "print(\"New_sentence:\", sentence)"
   ]
  },
  {
   "cell_type": "code",
   "execution_count": 65,
   "id": "2b385cdf-6ac7-4a53-8749-f4a82f259c6d",
   "metadata": {},
   "outputs": [],
   "source": [
    "# Exercise 7"
   ]
  },
  {
   "cell_type": "code",
   "execution_count": 66,
   "id": "83f5e157-0cf1-4136-84cc-f6a94eca67c0",
   "metadata": {},
   "outputs": [
    {
     "name": "stdout",
     "output_type": "stream",
     "text": [
      "fruits_list: ['apple', 'banana', 'orange']\n"
     ]
    }
   ],
   "source": [
    "fruits_list = \"apple,banana,orange\".split(\",\")\n",
    "print(\"fruits_list:\", fruits_list )"
   ]
  },
  {
   "cell_type": "code",
   "execution_count": 67,
   "id": "1aa74b32-61b0-4931-83a7-90c28bdab811",
   "metadata": {},
   "outputs": [],
   "source": [
    "# Exercise 8"
   ]
  },
  {
   "cell_type": "code",
   "execution_count": 68,
   "id": "6fecd881-5532-4548-a4b6-7703a8d852e6",
   "metadata": {},
   "outputs": [
    {
     "name": "stdout",
     "output_type": "stream",
     "text": [
      "Formated: My name is Alice and I am 25 years old\n"
     ]
    }
   ],
   "source": [
    "name = \"Alice\"\n",
    "age = 25\n",
    "formatted = f\"My name is {name} and I am {age} years old\"\n",
    "print(\"Formated:\", formatted)"
   ]
  },
  {
   "cell_type": "code",
   "execution_count": 69,
   "id": "ff22e8cc-3cd7-448e-85ad-2f4103fe887d",
   "metadata": {},
   "outputs": [],
   "source": [
    "# Exercise 9"
   ]
  },
  {
   "cell_type": "code",
   "execution_count": 70,
   "id": "09ed48fb-1130-46a7-bac0-e3e79bf4be15",
   "metadata": {},
   "outputs": [
    {
     "name": "stdout",
     "output_type": "stream",
     "text": [
      "Is_present: Is 'python' present? True\n"
     ]
    }
   ],
   "source": [
    "is_present = \"python\" in \"I love python programming\"\n",
    "print(\"Is_present: Is 'python' present?\", is_present)"
   ]
  },
  {
   "cell_type": "code",
   "execution_count": 71,
   "id": "c5e0203c-16fe-4e0a-b997-aef2d69e17f0",
   "metadata": {},
   "outputs": [],
   "source": [
    "# Exercise 10"
   ]
  },
  {
   "cell_type": "code",
   "execution_count": 72,
   "id": "b2cb1c75-ea9f-4770-b444-353a1e7fc10d",
   "metadata": {},
   "outputs": [
    {
     "name": "stdout",
     "output_type": "stream",
     "text": [
      "count_e: Number of 'e' = 3\n"
     ]
    }
   ],
   "source": [
    "count_e = \"Elephant is an elegant animal\".count(\"e\")\n",
    "print(\"count_e: Number of 'e' =\", count_e)"
   ]
  },
  {
   "cell_type": "code",
   "execution_count": 73,
   "id": "a9ba9e6c-b413-4abb-948a-de25f0085ebd",
   "metadata": {},
   "outputs": [],
   "source": [
    "# Exercise 11"
   ]
  },
  {
   "cell_type": "code",
   "execution_count": 74,
   "id": "ac843e0e-38df-4680-a185-3fb0626b70ef",
   "metadata": {},
   "outputs": [
    {
     "name": "stdout",
     "output_type": "stream",
     "text": [
      "cleaned: Data Science\n"
     ]
    }
   ],
   "source": [
    "cleaned = \"   Data Science   \".strip()\n",
    "print(\"cleaned:\", cleaned)"
   ]
  },
  {
   "cell_type": "code",
   "execution_count": 75,
   "id": "51dce6e0-ad1d-4782-85a9-55478e635d29",
   "metadata": {},
   "outputs": [],
   "source": [
    "# Exercise 12"
   ]
  },
  {
   "cell_type": "code",
   "execution_count": 76,
   "id": "c9068ade-b35b-47e3-a0fa-5bf26e3ea20d",
   "metadata": {},
   "outputs": [
    {
     "name": "stdout",
     "output_type": "stream",
     "text": [
      "int_value: Integer value = 100\n"
     ]
    }
   ],
   "source": [
    "int_value = int(\"100\")\n",
    "print(\"int_value: Integer value =\", int_value)"
   ]
  },
  {
   "cell_type": "code",
   "execution_count": 77,
   "id": "8e13f313-0072-4560-a878-3aa47cc84de8",
   "metadata": {},
   "outputs": [],
   "source": [
    "# Exercise 13"
   ]
  },
  {
   "cell_type": "code",
   "execution_count": 78,
   "id": "74cc647e-3a71-422a-8eb2-d5ba9491d7ec",
   "metadata": {},
   "outputs": [
    {
     "name": "stdout",
     "output_type": "stream",
     "text": [
      "substring: pro\n"
     ]
    }
   ],
   "source": [
    "substring = \"programming\"[0:3]\n",
    "print(\"substring:\", substring)"
   ]
  },
  {
   "cell_type": "code",
   "execution_count": 79,
   "id": "9bc36c92-3192-414c-b9f1-f6d670e80287",
   "metadata": {},
   "outputs": [],
   "source": [
    "# Exercise 14"
   ]
  },
  {
   "cell_type": "code",
   "execution_count": 80,
   "id": "65732a97-8ba0-4af8-b648-82d8ee5a94bd",
   "metadata": {},
   "outputs": [
    {
     "name": "stdout",
     "output_type": "stream",
     "text": [
      "string: Starts with 'da'? True | Ends with 'ta'? True\n"
     ]
    }
   ],
   "source": [
    "word = \"data\"\n",
    "starts = word.startswith(\"da\")\n",
    "ends = word.endswith(\"ta\")\n",
    "print(\"string: Starts with 'da'?\", starts, \"| Ends with 'ta'?\", ends)\n"
   ]
  },
  {
   "cell_type": "code",
   "execution_count": 81,
   "id": "c08a4863-e002-4e30-b1a4-8d962c23309b",
   "metadata": {},
   "outputs": [],
   "source": [
    "# Exercise 15"
   ]
  },
  {
   "cell_type": "code",
   "execution_count": 82,
   "id": "175a49fb-011c-44cc-9aae-2dacb36ca8f8",
   "metadata": {},
   "outputs": [
    {
     "name": "stdout",
     "output_type": "stream",
     "text": [
      "reversed_text: gninrael enihcam\n"
     ]
    }
   ],
   "source": [
    "reversed_text = \"machine learning\"[::-1]\n",
    "print(\"reversed_text:\", reversed_text)"
   ]
  },
  {
   "cell_type": "code",
   "execution_count": 83,
   "id": "eebf474d-92f7-4163-9de1-4ebbda35d641",
   "metadata": {},
   "outputs": [],
   "source": [
    "# Exercise 16"
   ]
  },
  {
   "cell_type": "code",
   "execution_count": 84,
   "id": "a48a2148-8fa8-41d2-bdc6-2298181729cb",
   "metadata": {},
   "outputs": [
    {
     "name": "stdout",
     "output_type": "stream",
     "text": [
      "title_case: Machine Learning Is Fun\n"
     ]
    }
   ],
   "source": [
    "title_case = \"machine learning is fun\".title()\n",
    "print(\"title_case:\", title_case)"
   ]
  },
  {
   "cell_type": "code",
   "execution_count": 85,
   "id": "d7670cf3-9f42-4c49-a2ef-3dae113238b8",
   "metadata": {},
   "outputs": [],
   "source": [
    "# Exercise 17"
   ]
  },
  {
   "cell_type": "code",
   "execution_count": 86,
   "id": "7aeca2f2-6bea-4d27-add6-c2c7bc94a411",
   "metadata": {},
   "outputs": [
    {
     "name": "stdout",
     "output_type": "stream",
     "text": [
      "poem:\n",
      "Roses are red,\n",
      "Violets are blue,\n",
      "Python is great,\n",
      "And so are you.\n"
     ]
    }
   ],
   "source": [
    "poem = \"\"\"Roses are red,\n",
    "Violets are blue,\n",
    "Python is great,\n",
    "And so are you.\"\"\"\n",
    "print(\"poem:\\n\" + poem)"
   ]
  },
  {
   "cell_type": "code",
   "execution_count": 87,
   "id": "83420e2b-7a6a-4a83-b934-f52f783cf665",
   "metadata": {},
   "outputs": [],
   "source": [
    "# Exercise 18"
   ]
  },
  {
   "cell_type": "code",
   "execution_count": 88,
   "id": "94b9b2ec-8890-4b45-bb8b-3e5ab8118c9f",
   "metadata": {},
   "outputs": [
    {
     "name": "stdout",
     "output_type": "stream",
     "text": [
      "This is the content written to the output file.\n"
     ]
    }
   ],
   "source": [
    "text = \"This is the content written to the output file.\"\n",
    "\n",
    "with open(\"output.txt\", \"w\") as file:\n",
    "    file.write(text)\n",
    "\n",
    "print(text)"
   ]
  },
  {
   "cell_type": "code",
   "execution_count": 89,
   "id": "36cbb485-e2a5-48e5-8f27-1b66f06dca08",
   "metadata": {},
   "outputs": [],
   "source": [
    "# Exercise 19"
   ]
  },
  {
   "cell_type": "code",
   "execution_count": 90,
   "id": "86dbc0ad-ecc5-489d-a504-dd20c36f30e8",
   "metadata": {},
   "outputs": [
    {
     "name": "stdout",
     "output_type": "stream",
     "text": [
      "Name,Age,Score\n",
      "Alice,23,85\n",
      "Bob,30,90\n",
      "Charlie,25,88\n"
     ]
    }
   ],
   "source": [
    "with open(\"data/data.txt\", \"r\") as file:\n",
    "    for line in file:\n",
    "        print(line.strip())"
   ]
  },
  {
   "cell_type": "markdown",
   "id": "690cd689-be98-4a7e-be36-23d9f584abf2",
   "metadata": {},
   "source": [
    "# Exercise 20"
   ]
  },
  {
   "cell_type": "code",
   "execution_count": null,
   "id": "a1974ae7-b4a9-481e-a07b-704afa662a58",
   "metadata": {},
   "outputs": [],
   "source": [
    "import os\n",
    "\n",
    "if os.path.exists(\"example.txt\"):\n",
    "    with open(\"example.txt\", \"r\") as f:\n",
    "        print(f.read())"
   ]
  },
  {
   "cell_type": "code",
   "execution_count": 92,
   "id": "44c7f0aa-a14a-4a07-915e-953d46b84237",
   "metadata": {},
   "outputs": [],
   "source": [
    "# Exercise 21"
   ]
  },
  {
   "cell_type": "code",
   "execution_count": null,
   "id": "4f2b434c-1081-4ae0-9ff3-9a4e9d3b61e9",
   "metadata": {},
   "outputs": [],
   "source": [
    "with open(\"notes.txt\", \"a\") as f:\n",
    "    f.write(\"\\nThis is a new line\")\n",
    "with open(\"notes.txt\", \"r\") as f:\n",
    "    print(f.read())"
   ]
  },
  {
   "cell_type": "code",
   "execution_count": 93,
   "id": "2d5ac8e5-127f-427e-9dfb-ad6ab1a65d68",
   "metadata": {},
   "outputs": [],
   "source": [
    "# Exercise 22"
   ]
  },
  {
   "cell_type": "code",
   "execution_count": null,
   "id": "f35da780-0436-4cc1-ae78-7510a3d40e71",
   "metadata": {},
   "outputs": [],
   "source": [
    "with open(\"data/log.txt\", \"r\") as f:\n",
    "    log_lines = f.readlines()"
   ]
  },
  {
   "cell_type": "code",
   "execution_count": 94,
   "id": "e59eade5-fe69-4e8b-bcfa-5ecbd7764ce3",
   "metadata": {},
   "outputs": [],
   "source": [
    "# Exercise 23"
   ]
  },
  {
   "cell_type": "code",
   "execution_count": null,
   "id": "e53b5ae5-4d87-4e8b-8a0a-7e8620b9afce",
   "metadata": {},
   "outputs": [],
   "source": [
    "with open(\"data/report.txt\", \"w\") as f:\n",
    "    f.write(\"Data analysis report\")\n",
    "with open(\"data/report.txt\", \"r\") as f:\n",
    "    print(f.read())"
   ]
  },
  {
   "cell_type": "code",
   "execution_count": 95,
   "id": "11e69d54-a2b4-4bea-8bb7-dba89c276973",
   "metadata": {},
   "outputs": [],
   "source": [
    "# Exercise 24"
   ]
  },
  {
   "cell_type": "code",
   "execution_count": null,
   "id": "632acbea-2260-4f7a-ab63-71b4ef507ef5",
   "metadata": {},
   "outputs": [],
   "source": [
    "with open(\"data/log.txt\", \"r\") as f:\n",
    "    content = f.read()\n",
    "content = content.replace(\"error\", \"issue\")\n",
    "with open(\"data/log.txt\", \"w\") as f:\n",
    "    f.write(content)"
   ]
  },
  {
   "cell_type": "code",
   "execution_count": 96,
   "id": "a11cec77-ae6d-4e6c-b508-7ab70018eec8",
   "metadata": {},
   "outputs": [],
   "source": [
    "# Exercise 25"
   ]
  },
  {
   "cell_type": "code",
   "execution_count": null,
   "id": "304da78a-beec-4b69-b99c-182ccc1174d8",
   "metadata": {},
   "outputs": [],
   "source": [
    "with open(\"data/document.txt\", \"r\") as f:\n",
    "    word_count = len(f.read().split())"
   ]
  },
  {
   "cell_type": "code",
   "execution_count": 97,
   "id": "91fba49c-bac0-4754-ac52-bfb0a97acb79",
   "metadata": {},
   "outputs": [],
   "source": [
    "# Exercise 26"
   ]
  },
  {
   "cell_type": "code",
   "execution_count": null,
   "id": "2e3ebbce-7677-4786-93de-994a40e8be9b",
   "metadata": {},
   "outputs": [],
   "source": [
    "with open(\"data/essay.txt\", \"r\") as f:\n",
    "    text = f.read()\n",
    "    lines = text.splitlines()\n",
    "    words = text.split()\n",
    "    characters = len(text)"
   ]
  },
  {
   "cell_type": "code",
   "execution_count": 98,
   "id": "89ab3702-7511-4e04-8212-2b2cb12139af",
   "metadata": {},
   "outputs": [],
   "source": [
    "# Exercise 27"
   ]
  },
  {
   "cell_type": "code",
   "execution_count": null,
   "id": "71b1ddf7-4b8f-4cc6-be3a-7c5998cb5b98",
   "metadata": {},
   "outputs": [],
   "source": [
    "with open(\"data/essay.txt\", \"r\") as f:\n",
    "    text = f.read()\n",
    "    lines = text.splitlines()\n",
    "    words = text.split()\n",
    "    characters = len(text)\n"
   ]
  },
  {
   "cell_type": "code",
   "execution_count": 99,
   "id": "3567c01d-b2ce-4413-b995-a9aa555522c3",
   "metadata": {},
   "outputs": [],
   "source": [
    "# Exercise 28"
   ]
  },
  {
   "cell_type": "code",
   "execution_count": null,
   "id": "95662419-4429-468d-b2df-48b652835000",
   "metadata": {},
   "outputs": [],
   "source": [
    "def count_lines(filename):\n",
    "    with open(filename, \"r\") as f:\n",
    "        return len(f.readlines())\n"
   ]
  },
  {
   "cell_type": "code",
   "execution_count": 100,
   "id": "89d9a4f4-c6ef-4ec4-b0da-63d31ba59dc0",
   "metadata": {},
   "outputs": [],
   "source": [
    "# Exercise 29"
   ]
  },
  {
   "cell_type": "code",
   "execution_count": null,
   "id": "4d8c5af3-70be-4f52-aed9-330158fd51e8",
   "metadata": {},
   "outputs": [],
   "source": [
    "with open(\"data/article.txt\", \"r\") as f:\n",
    "    long_words = [word for word in f.read().split() if len(word) > 5]"
   ]
  },
  {
   "cell_type": "code",
   "execution_count": 101,
   "id": "2d77fd1a-02af-4997-8245-29ad61ab9efd",
   "metadata": {},
   "outputs": [],
   "source": [
    "# Exercise 30"
   ]
  },
  {
   "cell_type": "code",
   "execution_count": null,
   "id": "e9d5fabc-de37-48a4-be18-8efd3a29dda1",
   "metadata": {},
   "outputs": [],
   "source": [
    "with open(\"notes.txt\", \"r\") as f:\n",
    "    content = f.read().upper()\n",
    "with open(\"uppercase_notes.txt\", \"w\") as f:\n",
    "    f.write(content)"
   ]
  },
  {
   "cell_type": "code",
   "execution_count": 102,
   "id": "d3080d37-a437-4dec-8cf7-7890500482a5",
   "metadata": {},
   "outputs": [],
   "source": [
    "# Exercise 31"
   ]
  },
  {
   "cell_type": "code",
   "execution_count": null,
   "id": "78fda233-b59d-4842-b255-7acccee9c938",
   "metadata": {},
   "outputs": [],
   "source": [
    "def remove_empty_lines(file_name, output_file):\n",
    "    with open(file_name, 'r') as infile:\n",
    "        lines = infile.readlines()\n",
    "\n",
    "    non_empty_lines = [line for line in lines if line.strip() != '']\n",
    "\n",
    "    with open(output_file, 'w') as outfile:\n",
    "        outfile.writelines(non_empty_lines)\n",
    "        print(non_empty_lines)"
   ]
  },
  {
   "cell_type": "code",
   "execution_count": 103,
   "id": "e064f3e7-a363-4684-a9e5-1cd088331f54",
   "metadata": {},
   "outputs": [],
   "source": [
    "# Exercise 32"
   ]
  },
  {
   "cell_type": "code",
   "execution_count": null,
   "id": "bc429c85-2b82-4cfd-85a7-fa05c1e30e8e",
   "metadata": {},
   "outputs": [],
   "source": [
    "with open(\"data/config.txt\", \"r+\") as f:\n",
    "    content = f.read()"
   ]
  },
  {
   "cell_type": "code",
   "execution_count": 104,
   "id": "68057ab7-6fd8-46c0-a387-75c9f0ca90b3",
   "metadata": {},
   "outputs": [],
   "source": [
    "# Exercise 33"
   ]
  },
  {
   "cell_type": "code",
   "execution_count": null,
   "id": "a9511951-5819-4453-87c6-56abdafb4949",
   "metadata": {},
   "outputs": [],
   "source": [
    "def longest_line(filename):\n",
    "    with open(filename, \"r\") as f:\n",
    "        return max(f, key=len)"
   ]
  },
  {
   "cell_type": "code",
   "execution_count": 105,
   "id": "bad8758f-59ad-4b7b-9c21-fe00eb3b956a",
   "metadata": {},
   "outputs": [],
   "source": [
    "# Exercise 34"
   ]
  },
  {
   "cell_type": "code",
   "execution_count": null,
   "id": "c480a731-c562-4b19-ac3c-a9cb09c87fa6",
   "metadata": {},
   "outputs": [],
   "source": [
    "from collections import Counter\n",
    "with open(\"data/message.txt\", \"r\") as f:\n",
    "    text = f.read().lower()\n",
    "letter_freq = Counter(c for c in text if c.isalpha())"
   ]
  },
  {
   "cell_type": "code",
   "execution_count": 106,
   "id": "e96831af-5669-41b5-b837-3d503e293dd6",
   "metadata": {},
   "outputs": [],
   "source": [
    "# Exercise 35"
   ]
  },
  {
   "cell_type": "code",
   "execution_count": null,
   "id": "cb455eb7-aa4b-46e7-b807-1f7b0407da4d",
   "metadata": {},
   "outputs": [],
   "source": [
    "def count_characters_excluding_spaces(file_name):\n",
    "    with open(file_name, 'r') as file:\n",
    "        value = file.read()\n",
    "        value_no_spaces = value.replace(' ', '')\n",
    "        char_count = len(value_no_spaces)\n",
    "        print(f\"Total number of characters (spaces not included): {char_count}\")"
   ]
  },
  {
   "cell_type": "code",
   "execution_count": 107,
   "id": "a0da8004-4dc6-4d68-bad9-c073867d1f26",
   "metadata": {},
   "outputs": [],
   "source": [
    "# Exercise 36"
   ]
  },
  {
   "cell_type": "code",
   "execution_count": null,
   "id": "962c6217-9bfb-448d-8556-cb9802b48d95",
   "metadata": {},
   "outputs": [],
   "source": [
    "def is_file_empty(filename):\n",
    "    return os.stat(filename).st_size == 0"
   ]
  },
  {
   "cell_type": "code",
   "execution_count": 108,
   "id": "2d7df740-9693-473e-b792-22d7f74c3baa",
   "metadata": {},
   "outputs": [],
   "source": [
    "# Exercise 37"
   ]
  },
  {
   "cell_type": "code",
   "execution_count": null,
   "id": "df8f3335-2d96-4292-8ba8-0bdba6e67a81",
   "metadata": {},
   "outputs": [],
   "source": [
    "import string\n",
    "def remove_punctuation(filename):\n",
    "    with open(filename, \"r\") as f:\n",
    "        text = f.read()\n",
    "    for p in string.punctuation:\n",
    "        text = text.replace(p, \"\")\n",
    "    return text"
   ]
  },
  {
   "cell_type": "code",
   "execution_count": 109,
   "id": "fa833d7e-469c-4d5b-8bad-27c300859892",
   "metadata": {},
   "outputs": [],
   "source": [
    "# Exercise 38"
   ]
  },
  {
   "cell_type": "code",
   "execution_count": null,
   "id": "5cd3df55-1fa4-4c1d-bd75-0556d4e9fb29",
   "metadata": {},
   "outputs": [],
   "source": [
    "def write_lines(filename, lines):\n",
    "    with open(filename, \"w\") as f:\n",
    "        for line in lines:\n",
    "            f.write(line + \"\\n\")"
   ]
  },
  {
   "cell_type": "code",
   "execution_count": 110,
   "id": "3086610b-1a98-46a2-b589-e2c318c3331a",
   "metadata": {},
   "outputs": [],
   "source": [
    "# Exercise 39"
   ]
  },
  {
   "cell_type": "code",
   "execution_count": null,
   "id": "df5e4c90-0ea0-407b-af6a-2cd1baf1ef27",
   "metadata": {},
   "outputs": [],
   "source": [
    "def count_lines_starting_with_letter(file_name, letter):\n",
    "    count = 0\n",
    "    with open(file_name, 'r') as file:\n",
    "        for line in file:\n",
    "            if line.strip().startswith(letter):\n",
    "                count += 1\n",
    "    print(f\"Number of lines starting with '{letter}': {count}\")"
   ]
  },
  {
   "cell_type": "code",
   "execution_count": null,
   "id": "2c0d9479-42d4-49b8-bec4-4b75bb11470c",
   "metadata": {},
   "outputs": [],
   "source": [
    "# Exercise 40"
   ]
  },
  {
   "cell_type": "code",
   "execution_count": null,
   "id": "951fd010-9d33-4185-83ed-2667e265c324",
   "metadata": {},
   "outputs": [],
   "source": [
    "def write_reversed(filename, text):\n",
    "    with open(filename, \"w\") as f:\n",
    "        f.write(text[::-1])"
   ]
  },
  {
   "cell_type": "code",
   "execution_count": null,
   "id": "99eac931-5a72-420b-a6ac-995d26e9bda6",
   "metadata": {},
   "outputs": [],
   "source": [
    "# Exercise 41"
   ]
  },
  {
   "cell_type": "code",
   "execution_count": null,
   "id": "343b2b0f-6ff7-47ea-b84b-3ca8048c32b0",
   "metadata": {},
   "outputs": [],
   "source": [
    "def print_lines_with_python(file_name):\n",
    "    with open(file_name, 'r') as file:\n",
    "        for line in file:\n",
    "            if \"Python\" in line:\n",
    "                print(line.strip())\n",
    "\n",
    "print_lines_with_python(\"data/book.txt\")"
   ]
  },
  {
   "cell_type": "code",
   "execution_count": null,
   "id": "0ad1f4d8-7033-4343-825a-9cc59c33be6c",
   "metadata": {},
   "outputs": [],
   "source": [
    "# Exercise 42"
   ]
  },
  {
   "cell_type": "code",
   "execution_count": null,
   "id": "7ddc0bca-d671-4ef8-bcbd-23d1619c2743",
   "metadata": {},
   "outputs": [],
   "source": [
    "def remove_digits_from_file(file_name, output_file):\n",
    "    with open(file_name, 'r') as infile:\n",
    "        value = infile.read()\n",
    "    cleaned_value = ''.join(char for char in content if not char.isdigit())\n",
    "    with open(output_file, 'w') as outfile:\n",
    "        outfile.write(cleaned_value)"
   ]
  },
  {
   "cell_type": "code",
   "execution_count": null,
   "id": "23d04b91-9b97-4973-88fc-c87cacac4c1d",
   "metadata": {},
   "outputs": [],
   "source": [
    "# Exercise 43"
   ]
  },
  {
   "cell_type": "code",
   "execution_count": null,
   "id": "276851b7-f81a-4c3c-a9ab-be58e479284b",
   "metadata": {},
   "outputs": [],
   "source": [
    "with open(\"data/book.txt\", \"r\") as f:\n",
    "    words = f.read().lower().split()\n",
    "    most_common = Counter(words).most_common(1)[0]\n",
    "print(\"Most frequent word:\", most_common)"
   ]
  },
  {
   "cell_type": "code",
   "execution_count": null,
   "id": "b7f676ea-2312-44ee-ad59-a3ff5c19f519",
   "metadata": {},
   "outputs": [],
   "source": [
    "# Exercise 44"
   ]
  },
  {
   "cell_type": "code",
   "execution_count": null,
   "id": "2a8a044a-f68b-4019-a604-66f6970706e7",
   "metadata": {},
   "outputs": [],
   "source": [
    "def print_lines_with_five_words(file_name):\n",
    "    with open(file_name, 'r') as file:\n",
    "        for line in file:\n",
    "            words = line.strip().split()\n",
    "            if len(words) == 5:\n",
    "                print(line.strip())"
   ]
  },
  {
   "cell_type": "code",
   "execution_count": null,
   "id": "877ab190-b14c-4e33-9e72-97aecdaaa3e0",
   "metadata": {},
   "outputs": [],
   "source": [
    "# Exercise 45"
   ]
  },
  {
   "cell_type": "code",
   "execution_count": null,
   "id": "6dc87e60-331f-4dac-9dfd-ae52f45e526b",
   "metadata": {},
   "outputs": [],
   "source": [
    "def print_first_and_last_line(file_name):\n",
    "    with open(file_name, 'r') as file:\n",
    "        lines = file.readlines()\n",
    "\n",
    "    if lines:\n",
    "        print(\"First line:\", lines[0].strip())\n",
    "        print(\"Last line:\", lines[-1].strip())\n",
    "    else:\n",
    "        print(\"The file is empty.\")"
   ]
  },
  {
   "cell_type": "code",
   "execution_count": null,
   "id": "013ba564-c3c0-41d5-bc94-80a50b36013e",
   "metadata": {},
   "outputs": [],
   "source": [
    "# Exercise 46"
   ]
  },
  {
   "cell_type": "code",
   "execution_count": null,
   "id": "66475f14-c144-474e-9ca2-9798c0014a9a",
   "metadata": {},
   "outputs": [],
   "source": [
    "import os\n",
    "\n",
    "def is_file_writable(file_name):\n",
    "    if os.path.exists(file_name):\n",
    "        if os.access(file_name, os.W_OK):\n",
    "            print(f\"The file '{file_name}' is writable.\")\n",
    "        else:\n",
    "            print(f\"The file '{file_name}' is not writable.\")\n",
    "    else:\n",
    "        print(f\"The file '{file_name}' does not exist.\")"
   ]
  },
  {
   "cell_type": "code",
   "execution_count": null,
   "id": "e14fa817-91cd-460e-a9ae-c4e8204ac5c6",
   "metadata": {},
   "outputs": [],
   "source": [
    "# Exercise 47"
   ]
  },
  {
   "cell_type": "code",
   "execution_count": null,
   "id": "059d9c43-9adb-4a48-855a-f6dd89670fa4",
   "metadata": {},
   "outputs": [],
   "source": [
    "def unique_word_count(filename):\n",
    "    with open(filename, \"r\") as f:\n",
    "        words = f.read().lower().split()\n",
    "    return len(set(words))\n",
    "\n",
    "unique_word_count(\"data/book.txt\")"
   ]
  },
  {
   "cell_type": "code",
   "execution_count": null,
   "id": "70ab3f0c-7818-431e-8a59-c3fc867d448c",
   "metadata": {},
   "outputs": [],
   "source": [
    "# Exercise 48"
   ]
  },
  {
   "cell_type": "code",
   "execution_count": null,
   "id": "824b8190-f0ff-4809-8b32-fbf720bd61d9",
   "metadata": {},
   "outputs": [],
   "source": [
    "def print_lines_in_reverse(file_name):\n",
    "    with open(file_name, 'r') as file:\n",
    "        lines = file.readlines()\n",
    "    for line in reversed(lines):\n",
    "        print(line.strip())\n",
    "\n",
    "print_lines_in_reverse(\"data/book.txt\")"
   ]
  },
  {
   "cell_type": "code",
   "execution_count": null,
   "id": "489a95af-4589-4daa-aedb-460c1783d565",
   "metadata": {},
   "outputs": [],
   "source": [
    "# Exercise 49"
   ]
  },
  {
   "cell_type": "code",
   "execution_count": null,
   "id": "3dc79759-3798-417f-94fe-ead88ae12806",
   "metadata": {},
   "outputs": [],
   "source": [
    "def most_common_letter(filename):\n",
    "    with open(filename, \"r\") as f:\n",
    "        letters = [c.lower() for c in f.read() if c.isalpha()]\n",
    "    return Counter(letters).most_common(1)[0]\n",
    "\n",
    "most_common_letter(\"data/book.txt\")"
   ]
  },
  {
   "cell_type": "code",
   "execution_count": null,
   "id": "14044707-ab2c-41d6-bd52-27b1b89860b8",
   "metadata": {},
   "outputs": [],
   "source": [
    "# Exercise 50"
   ]
  },
  {
   "cell_type": "code",
   "execution_count": null,
   "id": "b569af16-711a-4a96-a82b-e29543839c34",
   "metadata": {},
   "outputs": [],
   "source": [
    "def replace_python_with_java(file_name, output_file):\n",
    "    with open(file_name, 'r') as file:\n",
    "        value = file.read()\n",
    "\n",
    "    updated_value = value.replace(\"Python\", \"Java\")\n",
    "\n",
    "    with open(output_file, 'w') as file:\n",
    "        file.write(updated_value)\n",
    "\n",
    "replace_python_with_java(\"data/book.txt\", \"data/output.txt\")"
   ]
  }
 ],
 "metadata": {
  "kernelspec": {
   "display_name": "Python [conda env:base] *",
   "language": "python",
   "name": "conda-base-py"
  },
  "language_info": {
   "codemirror_mode": {
    "name": "ipython",
    "version": 3
   },
   "file_extension": ".py",
   "mimetype": "text/x-python",
   "name": "python",
   "nbconvert_exporter": "python",
   "pygments_lexer": "ipython3",
   "version": "3.12.4"
  }
 },
 "nbformat": 4,
 "nbformat_minor": 5
}
