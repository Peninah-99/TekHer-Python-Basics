{
 "cells": [
  {
   "cell_type": "markdown",
   "id": "836a9a76-0605-4e94-862a-6e93f4274ff3",
   "metadata": {},
   "source": [
    "# Exercise 1"
   ]
  },
  {
   "cell_type": "code",
   "execution_count": 69,
   "id": "cb1f0c59-4261-4f35-9413-e57dde0c009c",
   "metadata": {},
   "outputs": [],
   "source": [
    "x = 10"
   ]
  },
  {
   "cell_type": "markdown",
   "id": "f6782859-30f2-4e04-8914-49b00530d12b",
   "metadata": {},
   "source": [
    "# Exercise 2"
   ]
  },
  {
   "cell_type": "code",
   "execution_count": 3,
   "id": "fc424947-b4c1-46ab-b928-e2bd7db70f9d",
   "metadata": {},
   "outputs": [],
   "source": [
    "is_valid = True"
   ]
  },
  {
   "cell_type": "markdown",
   "id": "1db361fd-d04a-4a5e-909d-60f1eb0cb512",
   "metadata": {},
   "source": [
    "# Exercise 3"
   ]
  },
  {
   "cell_type": "code",
   "execution_count": 5,
   "id": "98488a74-6569-4183-904e-7dcc9856b3fe",
   "metadata": {},
   "outputs": [],
   "source": [
    "name = \"Python Programming\""
   ]
  },
  {
   "cell_type": "markdown",
   "id": "79ae5911-b4ff-47a5-91a6-86d4165508f6",
   "metadata": {},
   "source": [
    "# Exercise 4"
   ]
  },
  {
   "cell_type": "code",
   "execution_count": 7,
   "id": "8576cdc1-474f-45a2-b6f4-f82d37aff58a",
   "metadata": {},
   "outputs": [
    {
     "name": "stdout",
     "output_type": "stream",
     "text": [
      "sum_result = 8\n"
     ]
    }
   ],
   "source": [
    "sum_result = 5 + 3\n",
    "print(\"sum_result =\", sum_result)"
   ]
  },
  {
   "cell_type": "markdown",
   "id": "0ea1479b-ac2c-4a0a-9c29-6720d95e6be8",
   "metadata": {},
   "source": [
    "Exercise 5"
   ]
  },
  {
   "cell_type": "code",
   "execution_count": 1,
   "id": "3cb909da-23b2-4bc0-8296-35524929900c",
   "metadata": {},
   "outputs": [
    {
     "name": "stdout",
     "output_type": "stream",
     "text": [
      "a = 5 b = 10 c =  15\n"
     ]
    }
   ],
   "source": [
    "a, b, c = 5, 10, 15\n",
    "print(\"a =\", a, \"b =\", b,\"c = \", c)"
   ]
  },
  {
   "cell_type": "markdown",
   "id": "275a761a-d3d2-434e-a514-678d06c1ae8b",
   "metadata": {},
   "source": [
    "# Exercise 6"
   ]
  },
  {
   "cell_type": "code",
   "execution_count": 3,
   "id": "98d21027-fe27-494c-a166-9b8671e01dbb",
   "metadata": {},
   "outputs": [
    {
     "name": "stdout",
     "output_type": "stream",
     "text": [
      "x = 5 y = 5\n"
     ]
    }
   ],
   "source": [
    "x = 5\n",
    "y = x \n",
    "print(\"x =\", x,\"y =\", y)"
   ]
  },
  {
   "cell_type": "markdown",
   "id": "ca07a80f-0af4-4e82-89de-230564baff9a",
   "metadata": {},
   "source": [
    "# Exercise 7"
   ]
  },
  {
   "cell_type": "code",
   "execution_count": 5,
   "id": "ef562794-0102-4dac-a2af-3e1e81f7e5f6",
   "metadata": {},
   "outputs": [
    {
     "name": "stdout",
     "output_type": "stream",
     "text": [
      "gravity = 9.8\n"
     ]
    }
   ],
   "source": [
    "gravity = 9.8\n",
    "print(\"gravity =\", gravity)\n"
   ]
  },
  {
   "cell_type": "markdown",
   "id": "884c6eeb-d53d-4113-bd16-660348ffa21a",
   "metadata": {},
   "source": [
    "# Exercise 8"
   ]
  },
  {
   "cell_type": "code",
   "execution_count": 7,
   "id": "1a23b991-8a5d-4fed-b1e8-4ae8e20e0d28",
   "metadata": {},
   "outputs": [
    {
     "name": "stdout",
     "output_type": "stream",
     "text": [
      "country = Rwanda\n"
     ]
    }
   ],
   "source": [
    "country = \"Rwanda\"\n",
    "print(\"country =\", country)"
   ]
  },
  {
   "cell_type": "markdown",
   "id": "21d57b22-3db9-4d95-9ec2-4195b7733d2b",
   "metadata": {},
   "source": [
    "# Exercise 9"
   ]
  },
  {
   "cell_type": "code",
   "execution_count": 9,
   "id": "d3a59765-ad90-49dd-9211-8cad1dc5f4e9",
   "metadata": {},
   "outputs": [
    {
     "name": "stdout",
     "output_type": "stream",
     "text": [
      "Initial age = 25\n",
      "updated age = 26\n"
     ]
    }
   ],
   "source": [
    "age = 25\n",
    "print(\"Initial age =\", age)\n",
    "age = 26\n",
    "print(\"updated age =\", age)"
   ]
  },
  {
   "cell_type": "markdown",
   "id": "4100fc25-787c-46c2-9709-832b97e4046b",
   "metadata": {},
   "source": [
    "# Exercise 10"
   ]
  },
  {
   "cell_type": "code",
   "execution_count": 11,
   "id": "9696c9f8-32d5-4fe1-b8f4-2dcb24533c51",
   "metadata": {},
   "outputs": [
    {
     "name": "stdout",
     "output_type": "stream",
     "text": [
      "difference = 13\n"
     ]
    }
   ],
   "source": [
    "difference = 20 - 7\n",
    "print(\"difference =\", difference)"
   ]
  },
  {
   "cell_type": "markdown",
   "id": "66f7c233-c68d-47c7-b3b3-b796b2493987",
   "metadata": {},
   "source": [
    "# Exercise 11"
   ]
  },
  {
   "cell_type": "code",
   "execution_count": 13,
   "id": "138d3a37-0df5-4c5d-af37-885291339fe1",
   "metadata": {},
   "outputs": [
    {
     "name": "stdout",
     "output_type": "stream",
     "text": [
      "int_value = 3 float_value = 3.15\n"
     ]
    }
   ],
   "source": [
    "int_value = 3\n",
    "float_value = 3.15\n",
    "print(\"int_value =\", int_value, \"float_value =\", float_value)"
   ]
  },
  {
   "cell_type": "markdown",
   "id": "61e83425-3193-4a1f-aa56-4db4c92235ff",
   "metadata": {},
   "source": [
    "# Exercise 12"
   ]
  },
  {
   "cell_type": "code",
   "execution_count": 15,
   "id": "897c6347-0e00-4102-b925-12f2f27af0bd",
   "metadata": {},
   "outputs": [
    {
     "name": "stdout",
     "output_type": "stream",
     "text": [
      "is_completed = False\n"
     ]
    }
   ],
   "source": [
    "is_completed = False\n",
    "print(\"is_completed =\", is_completed)"
   ]
  },
  {
   "cell_type": "markdown",
   "id": "68c4a934-ae51-45fd-b2d1-6bb9394554e5",
   "metadata": {},
   "source": [
    "# Exercise 13"
   ]
  },
  {
   "cell_type": "code",
   "execution_count": 19,
   "id": "efc646f2-906e-4c08-9f1c-cb985b1c4036",
   "metadata": {},
   "outputs": [
    {
     "name": "stdout",
     "output_type": "stream",
     "text": [
      "After swapping: x = 6 y = 5\n"
     ]
    }
   ],
   "source": [
    "x = 5\n",
    "y = 6\n",
    "x, y = y, x\n",
    "print(\"After swapping: x =\", x, \"y =\", y)"
   ]
  },
  {
   "cell_type": "markdown",
   "id": "7c3255a8-1c42-472d-bdbc-57cad6e96d11",
   "metadata": {},
   "source": [
    "# Exercise 14"
   ]
  },
  {
   "cell_type": "markdown",
   "id": "167d23d6-5476-49a7-97ff-4adb51a865c2",
   "metadata": {},
   "source": [
    "complex_num = 3 + 4j\n",
    "print(\"complex_num =\", complex_num) "
   ]
  },
  {
   "cell_type": "markdown",
   "id": "05458ce3-cd61-447e-ac08-ca5e5ab57ade",
   "metadata": {},
   "source": [
    "# Exercise 15"
   ]
  },
  {
   "cell_type": "code",
   "execution_count": 25,
   "id": "0d3bad19-2adb-46ce-aedf-54332b1a05dc",
   "metadata": {},
   "outputs": [
    {
     "name": "stdout",
     "output_type": "stream",
     "text": [
      "Intial var (int): 4\n",
      "Reassigned var (str): character\n"
     ]
    }
   ],
   "source": [
    "var = 4\n",
    "print(\"Intial var (int):\", var)\n",
    "var = \"character\"\n",
    "print(\"Reassigned var (str):\", var)"
   ]
  },
  {
   "cell_type": "markdown",
   "id": "e29a839e-914f-4d4b-87a9-df1ef822702e",
   "metadata": {},
   "source": [
    "# Exercise 16"
   ]
  },
  {
   "cell_type": "code",
   "execution_count": 27,
   "id": "f5a11e84-55a7-4888-b6ac-01c4a17a28c4",
   "metadata": {},
   "outputs": [
    {
     "name": "stdout",
     "output_type": "stream",
     "text": [
      "Full name: Peninah Mutamba\n"
     ]
    }
   ],
   "source": [
    "first_name = \"Peninah\"\n",
    "last_name = \"Mutamba\"\n",
    "print(\"Full name:\", first_name, last_name)"
   ]
  },
  {
   "cell_type": "markdown",
   "id": "7618cc0c-ea78-4842-956b-58a503e4f5a6",
   "metadata": {},
   "source": [
    "# Exercise 17"
   ]
  },
  {
   "cell_type": "code",
   "execution_count": 29,
   "id": "1592b7ae-7f36-411f-a3ab-66f94383b602",
   "metadata": {},
   "outputs": [
    {
     "name": "stdout",
     "output_type": "stream",
     "text": [
      "Temperature = 35.5\n"
     ]
    }
   ],
   "source": [
    "temperature = 35.5\n",
    "print(\"Temperature =\", temperature)"
   ]
  },
  {
   "cell_type": "markdown",
   "id": "c1e61011-95f5-45db-a801-6d0c0f48c2cb",
   "metadata": {},
   "source": [
    "# Exercise 18"
   ]
  },
  {
   "cell_type": "code",
   "execution_count": 31,
   "id": "c36d063e-1633-4da3-8fce-ea2db9dfa1a4",
   "metadata": {},
   "outputs": [
    {
     "name": "stdout",
     "output_type": "stream",
     "text": [
      "Product = 48\n"
     ]
    }
   ],
   "source": [
    "product = 8 * 6\n",
    "print(\"Product =\", product)"
   ]
  },
  {
   "cell_type": "markdown",
   "id": "2e4d13ac-4553-444b-8cb9-f40a4ce45b25",
   "metadata": {},
   "source": [
    "# Exercise 19"
   ]
  },
  {
   "cell_type": "code",
   "execution_count": 33,
   "id": "43fe7fb3-9f9f-4cd1-9a88-70cb32dde66c",
   "metadata": {},
   "outputs": [
    {
     "name": "stdout",
     "output_type": "stream",
     "text": [
      "Sentence = Coding is so interesting\n"
     ]
    }
   ],
   "source": [
    "sentence = \"Coding is so interesting\"\n",
    "print(\"Sentence =\", sentence)"
   ]
  },
  {
   "cell_type": "markdown",
   "id": "f9e6032e-0b80-4584-867f-b92155204990",
   "metadata": {},
   "source": [
    "# Exercise 20"
   ]
  },
  {
   "cell_type": "code",
   "execution_count": 35,
   "id": "acbc7bc1-57c6-412e-8d9e-dc806dda79af",
   "metadata": {},
   "outputs": [
    {
     "name": "stdout",
     "output_type": "stream",
     "text": [
      "int_value = 50\n"
     ]
    }
   ],
   "source": [
    "int_value = int(\"50\")\n",
    "print(\"int_value =\", int_value)"
   ]
  },
  {
   "cell_type": "markdown",
   "id": "7a4b9bb9-dc6d-4492-87e7-ad4fc5b687ac",
   "metadata": {},
   "source": [
    "# Exercise 21"
   ]
  },
  {
   "cell_type": "code",
   "execution_count": 37,
   "id": "72de9276-321b-4215-a2ac-9da30d32baaa",
   "metadata": {},
   "outputs": [
    {
     "name": "stdout",
     "output_type": "stream",
     "text": [
      "Quotient = 12.0\n"
     ]
    }
   ],
   "source": [
    "quotient = 144 / 12\n",
    "print(\"Quotient =\", quotient)"
   ]
  },
  {
   "cell_type": "markdown",
   "id": "4754969b-7f24-4fea-862a-57e08de42182",
   "metadata": {},
   "source": [
    "# Exercise 22"
   ]
  },
  {
   "cell_type": "code",
   "execution_count": 39,
   "id": "9e438459-8107-4d4d-a764-10d081f317ce",
   "metadata": {},
   "outputs": [
    {
     "name": "stdout",
     "output_type": "stream",
     "text": [
      "remainder = 2\n"
     ]
    }
   ],
   "source": [
    "remainder = 47 % 5\n",
    "print(\"remainder =\", remainder)"
   ]
  },
  {
   "cell_type": "markdown",
   "id": "df5890f1-3f5b-433c-a135-b2380452672d",
   "metadata": {},
   "source": [
    "# Exercise 23"
   ]
  },
  {
   "cell_type": "code",
   "execution_count": 41,
   "id": "44da882f-0413-4bef-84a6-6f518c3e5ee1",
   "metadata": {},
   "outputs": [
    {
     "name": "stdout",
     "output_type": "stream",
     "text": [
      "Is_student = True\n"
     ]
    }
   ],
   "source": [
    "is_student = True\n",
    "print(\"Is_student =\", is_student)"
   ]
  },
  {
   "cell_type": "markdown",
   "id": "0a365d89-ce1c-4548-b557-78225ca64dae",
   "metadata": {},
   "source": [
    "# Exercise 24"
   ]
  },
  {
   "cell_type": "code",
   "execution_count": 43,
   "id": "35bd5b53-1369-404d-8f51-b312f4b8838a",
   "metadata": {},
   "outputs": [
    {
     "name": "stdout",
     "output_type": "stream",
     "text": [
      "Modulo = 1\n"
     ]
    }
   ],
   "source": [
    "modulo = 45 % 4 \n",
    "print(\"Modulo =\", modulo)"
   ]
  },
  {
   "cell_type": "markdown",
   "id": "45358052-a337-4a0d-a86b-e95ffefa170b",
   "metadata": {},
   "source": [
    "# Exercise 25"
   ]
  },
  {
   "cell_type": "code",
   "execution_count": 45,
   "id": "af002b45-007f-490a-8a3b-deea0c135ff7",
   "metadata": {},
   "outputs": [
    {
     "name": "stdout",
     "output_type": "stream",
     "text": [
      "Pi = 3.14159\n"
     ]
    }
   ],
   "source": [
    "pi = 3.14159\n",
    "print(\"Pi =\", pi)"
   ]
  },
  {
   "cell_type": "markdown",
   "id": "8736c3aa-253b-4206-841b-519bd981adc5",
   "metadata": {},
   "source": [
    "# Exercise 26"
   ]
  },
  {
   "cell_type": "code",
   "execution_count": 49,
   "id": "00c809ab-9a8d-4fb1-8f9f-78d00db0e1fd",
   "metadata": {},
   "outputs": [
    {
     "name": "stdout",
     "output_type": "stream",
     "text": [
      "Area = 30\n"
     ]
    }
   ],
   "source": [
    "length = 5\n",
    "width = 6\n",
    "rectange_area = length * width\n",
    "print(\"Area =\", rectange_area)"
   ]
  },
  {
   "cell_type": "markdown",
   "id": "f2203efe-2f21-470f-b025-4fa68c2937f3",
   "metadata": {},
   "source": [
    "# Exercise 27"
   ]
  },
  {
   "cell_type": "code",
   "execution_count": 51,
   "id": "79c172d2-1c61-4490-9dda-9361fa5995b7",
   "metadata": {},
   "outputs": [
    {
     "name": "stdout",
     "output_type": "stream",
     "text": [
      "Negative_value = -23\n"
     ]
    }
   ],
   "source": [
    "negative_value = -23\n",
    "print(\"Negative_value =\", negative_value)"
   ]
  },
  {
   "cell_type": "markdown",
   "id": "b1802d69-6850-4407-a16a-0023b9453458",
   "metadata": {},
   "source": [
    "# Exercise 28"
   ]
  },
  {
   "cell_type": "code",
   "execution_count": 55,
   "id": "23a10284-c76b-4460-b097-4ebaacb26f57",
   "metadata": {},
   "outputs": [
    {
     "name": "stdout",
     "output_type": "stream",
     "text": [
      "Greeting = Good morning, Friends!\n"
     ]
    }
   ],
   "source": [
    "greeting = \"Good morning, Friends!\"\n",
    "print(\"Greeting =\", greeting)"
   ]
  },
  {
   "cell_type": "markdown",
   "id": "5e33b5b2-893b-49a4-a3fb-76b64e0cc7d4",
   "metadata": {},
   "source": [
    "# Exercise 29"
   ]
  },
  {
   "cell_type": "code",
   "execution_count": 57,
   "id": "91f25280-ee41-401d-a110-cfff2d404554",
   "metadata": {},
   "outputs": [
    {
     "name": "stdout",
     "output_type": "stream",
     "text": [
      "Population = 14000000\n"
     ]
    }
   ],
   "source": [
    "population = 14000000\n",
    "print(\"Population =\", population)"
   ]
  },
  {
   "cell_type": "markdown",
   "id": "0af34831-a811-41ef-b561-4243c6898e6e",
   "metadata": {},
   "source": [
    "# Exercise 30"
   ]
  },
  {
   "cell_type": "code",
   "execution_count": 61,
   "id": "29eaa58b-ad6f-4c75-882a-d243b02fb5d3",
   "metadata": {},
   "outputs": [
    {
     "name": "stdout",
     "output_type": "stream",
     "text": [
      "2^8 = 256\n"
     ]
    }
   ],
   "source": [
    "power = 2 ** 8\n",
    "print(\"2^8 =\", power)"
   ]
  },
  {
   "cell_type": "markdown",
   "id": "7ce41f81-4b96-4a6d-aa22-3e61b96073b9",
   "metadata": {},
   "source": [
    "# Exercise 31"
   ]
  },
  {
   "cell_type": "code",
   "execution_count": 5,
   "id": "3fd3603e-9273-4cc9-9222-1583ce0551c1",
   "metadata": {},
   "outputs": [
    {
     "name": "stdout",
     "output_type": "stream",
     "text": [
      "Fruits = ['banana', 'mango', 'orange', 'aple']\n"
     ]
    }
   ],
   "source": [
    "fruits = [\"banana\", \"mango\", \"orange\",\"aple\",]\n",
    "print(\"Fruits =\", fruits)"
   ]
  },
  {
   "cell_type": "markdown",
   "id": "1bab5781-8c7a-4da1-b26b-24a50c1c27dc",
   "metadata": {},
   "source": [
    "# Exercise 32"
   ]
  },
  {
   "cell_type": "code",
   "execution_count": 1,
   "id": "23d8b7b6-11bb-44a7-ae42-172f8db70352",
   "metadata": {},
   "outputs": [
    {
     "name": "stdout",
     "output_type": "stream",
     "text": [
      "Coordinates = (10, 20, 30)\n"
     ]
    }
   ],
   "source": [
    "coordinates = (10, 20, 30)\n",
    "print(\"Coordinates =\", coordinates)"
   ]
  },
  {
   "cell_type": "markdown",
   "id": "8d708f5f-2cf6-4f0f-8bcf-a40925095abc",
   "metadata": {},
   "source": [
    "# Exercise 33"
   ]
  },
  {
   "cell_type": "code",
   "execution_count": 7,
   "id": "9cfcab1b-16ca-4d39-85a3-93789589fbd8",
   "metadata": {},
   "outputs": [
    {
     "name": "stdout",
     "output_type": "stream",
     "text": [
      "Person: {'name': 'Peninah', 'age': 25}\n"
     ]
    }
   ],
   "source": [
    "person = {\"name\": \"Peninah\", \"age\": 25}\n",
    "print(\"Person:\", person)"
   ]
  },
  {
   "cell_type": "markdown",
   "id": "3873fdc1-47a2-47a1-9bfb-f04977aa9801",
   "metadata": {},
   "source": [
    "# Exercise 34"
   ]
  },
  {
   "cell_type": "code",
   "execution_count": 11,
   "id": "723861ca-2ed2-4d8d-88ac-260dd8923252",
   "metadata": {},
   "outputs": [
    {
     "name": "stdout",
     "output_type": "stream",
     "text": [
      "Float sum: 4.0\n"
     ]
    }
   ],
   "source": [
    "float_number1 = 1.5\n",
    "float_number2 = 2.5\n",
    "float_sum = float_number1 + float_number2\n",
    "print(\"Float sum:\", float_sum)"
   ]
  },
  {
   "cell_type": "markdown",
   "id": "346b8b84-5496-4869-8075-dfbe2102eb3b",
   "metadata": {},
   "source": [
    "# Exercise 35"
   ]
  },
  {
   "cell_type": "code",
   "execution_count": 13,
   "id": "e0dccb23-2927-4c54-9b7f-0852f50378d9",
   "metadata": {},
   "outputs": [
    {
     "name": "stdout",
     "output_type": "stream",
     "text": [
      "is_sunny: True\n"
     ]
    }
   ],
   "source": [
    "is_sunny = 10 > 5\n",
    "print(\"is_sunny:\", is_sunny)"
   ]
  },
  {
   "cell_type": "markdown",
   "id": "a2e46c0b-6672-4736-91ff-df9a0aac0bf3",
   "metadata": {},
   "source": [
    "# Exercise 36"
   ]
  },
  {
   "cell_type": "code",
   "execution_count": 15,
   "id": "368c53c0-ec1b-456d-9037-8a5d730aec27",
   "metadata": {},
   "outputs": [
    {
     "name": "stdout",
     "output_type": "stream",
     "text": [
      "Combained: Age: 21\n"
     ]
    }
   ],
   "source": [
    "some_string = \"Age:\"\n",
    "some_int = 21\n",
    "print(\"Combained:\", some_string, some_int)"
   ]
  },
  {
   "cell_type": "markdown",
   "id": "69227f2e-e211-4668-bf27-0d03a01a94e5",
   "metadata": {},
   "source": [
    "# Exercise 37"
   ]
  },
  {
   "cell_type": "code",
   "execution_count": 17,
   "id": "3ada993f-afe8-4e3c-ab57-8e44338bb74e",
   "metadata": {},
   "outputs": [
    {
     "name": "stdout",
     "output_type": "stream",
     "text": [
      "Boolean value: True\n"
     ]
    }
   ],
   "source": [
    "number = 100\n",
    "number = True\n",
    "print(\"Boolean value:\", number)"
   ]
  },
  {
   "cell_type": "markdown",
   "id": "f64fca0b-ca7b-4a07-9613-326d61b06e8e",
   "metadata": {},
   "source": [
    "# Exercise 38"
   ]
  },
  {
   "cell_type": "code",
   "execution_count": 23,
   "id": "4bfa5030-7205-4daf-a63f-9bfd5c75d90b",
   "metadata": {},
   "outputs": [
    {
     "name": "stdout",
     "output_type": "stream",
     "text": [
      "is_weekend: False\n"
     ]
    }
   ],
   "source": [
    "is_weekend = False\n",
    "print(\"is_weekend:\", is_weekend)"
   ]
  },
  {
   "cell_type": "markdown",
   "id": "bd5f55de-9c16-4aba-afc9-adbbb5fc0f3d",
   "metadata": {},
   "source": [
    "# Exercise 39"
   ]
  },
  {
   "cell_type": "code",
   "execution_count": 25,
   "id": "aafdb313-9094-4e22-a8f3-b992938d0046",
   "metadata": {},
   "outputs": [
    {
     "name": "stdout",
     "output_type": "stream",
     "text": [
      "Description: A string can describe a variable even in a single sentence\n"
     ]
    }
   ],
   "source": [
    "description = '''A string can describe a variable even in a single sentence'''\n",
    "print(\"Description:\", description)"
   ]
  },
  {
   "cell_type": "markdown",
   "id": "4b2d0f5b-0b0c-4970-b84a-fed60d57abc6",
   "metadata": {},
   "source": [
    "# Exercise 40"
   ]
  },
  {
   "cell_type": "code",
   "execution_count": 27,
   "id": "bbb0dac2-ea0c-479d-9fad-f26ca7d43478",
   "metadata": {},
   "outputs": [
    {
     "name": "stdout",
     "output_type": "stream",
     "text": [
      "Absolute value: 25\n"
     ]
    }
   ],
   "source": [
    "absolute_value = abs(-25)\n",
    "print(\"Absolute value:\", absolute_value)"
   ]
  },
  {
   "cell_type": "markdown",
   "id": "61ca3870-4318-4573-b440-42800182e140",
   "metadata": {},
   "source": [
    "# Exercise 41"
   ]
  },
  {
   "cell_type": "code",
   "execution_count": 29,
   "id": "7c0f774c-bb01-4489-9ce1-c4a202c7010f",
   "metadata": {},
   "outputs": [
    {
     "name": "stdout",
     "output_type": "stream",
     "text": [
      "Floor division: 16\n"
     ]
    }
   ],
   "source": [
    "floor_div_result =100 // 6\n",
    "print(\"Floor division:\", floor_div_result)"
   ]
  },
  {
   "cell_type": "markdown",
   "id": "aaba9449-db55-4b8f-ac7e-15fea51a0329",
   "metadata": {},
   "source": [
    "# Exercise 42"
   ]
  },
  {
   "cell_type": "code",
   "execution_count": 31,
   "id": "e7a70b72-7099-4c48-b0ec-21455637e3d8",
   "metadata": {},
   "outputs": [
    {
     "name": "stdout",
     "output_type": "stream",
     "text": [
      "mixed_sum: 10.5\n"
     ]
    }
   ],
   "source": [
    "mixed_sum = 7 + 3.5\n",
    "print(\"mixed_sum:\", mixed_sum)"
   ]
  },
  {
   "cell_type": "markdown",
   "id": "7fd63e4f-dcb9-489a-9c34-238a40c884df",
   "metadata": {},
   "source": [
    "# Exercise 43"
   ]
  },
  {
   "cell_type": "code",
   "execution_count": 33,
   "id": "189f634d-123a-4476-8b98-82d9925c5711",
   "metadata": {},
   "outputs": [
    {
     "name": "stdout",
     "output_type": "stream",
     "text": [
      "Message: Hello, Mum!\n"
     ]
    }
   ],
   "source": [
    "greeting = \"Hello\"\n",
    "name = \"Mum\"\n",
    "full_message = greeting + \", \" + name + \"!\"\n",
    "print(\"Message:\", full_message)\n"
   ]
  },
  {
   "cell_type": "markdown",
   "id": "d6de20f4-099f-4b71-84bb-e1c8f4987606",
   "metadata": {},
   "source": [
    "# Exercise 44"
   ]
  },
  {
   "cell_type": "code",
   "execution_count": 35,
   "id": "f23900e1-67fc-4896-9fc9-6d1730f812b9",
   "metadata": {},
   "outputs": [
    {
     "name": "stdout",
     "output_type": "stream",
     "text": [
      "empty_list: []\n"
     ]
    }
   ],
   "source": [
    "empty_list = []\n",
    "print(\"empty_list:\", empty_list)"
   ]
  },
  {
   "cell_type": "markdown",
   "id": "fb22d737-1f56-46e3-af7f-0357ecbd6f8d",
   "metadata": {},
   "source": [
    "# Exercise 45"
   ]
  },
  {
   "cell_type": "code",
   "execution_count": 57,
   "id": "645a1c32-d8bf-4549-85e9-cc538bb31df7",
   "metadata": {},
   "outputs": [
    {
     "name": "stdout",
     "output_type": "stream",
     "text": [
      "Comparison: True\n"
     ]
    }
   ],
   "source": [
    "a = 10\n",
    "b = 15\n",
    "comparison_result = a < b\n",
    "print(\"Comparison:\", comparison_result)"
   ]
  },
  {
   "cell_type": "markdown",
   "id": "673869d2-b98f-43c1-812c-9babe6b14d60",
   "metadata": {},
   "source": [
    "# Exercise 46"
   ]
  },
  {
   "cell_type": "code",
   "execution_count": 59,
   "id": "84937287-bad0-4e7c-a3d8-92ed2740aa10",
   "metadata": {},
   "outputs": [],
   "source": [
    "long_sentance = \"This sentence is used to count characters.\"\n",
    "char_count = len(long_sentance)"
   ]
  },
  {
   "cell_type": "markdown",
   "id": "5d4641d2-8712-492f-8960-c1a5928a8a67",
   "metadata": {},
   "source": [
    "# Exercise 47"
   ]
  },
  {
   "cell_type": "code",
   "execution_count": 61,
   "id": "7c96db8b-b5e6-402e-935c-5d4e16fd8406",
   "metadata": {},
   "outputs": [
    {
     "name": "stdout",
     "output_type": "stream",
     "text": [
      "Division: 2.3333333333333335\n"
     ]
    }
   ],
   "source": [
    "division_result = 7 / 3\n",
    "print(\"Division:\", division_result)"
   ]
  },
  {
   "cell_type": "markdown",
   "id": "d74109c3-2ba6-4576-9b36-b260c5890102",
   "metadata": {},
   "source": [
    "# Exercise 48"
   ]
  },
  {
   "cell_type": "code",
   "execution_count": 63,
   "id": "8c169f82-8b18-4cb4-a915-35f723dde3db",
   "metadata": {},
   "outputs": [
    {
     "name": "stdout",
     "output_type": "stream",
     "text": [
      "Speed: 100\n"
     ]
    }
   ],
   "source": [
    "speed = 100\n",
    "print(\"Speed:\", speed)"
   ]
  },
  {
   "cell_type": "markdown",
   "id": "e8a96c52-556e-4f3c-94e2-8bf05554fef4",
   "metadata": {},
   "source": [
    "# Exercise 49"
   ]
  },
  {
   "cell_type": "code",
   "execution_count": 65,
   "id": "09d2737c-c6c4-431b-bf98-1df03c5527f5",
   "metadata": {},
   "outputs": [
    {
     "name": "stdout",
     "output_type": "stream",
     "text": [
      "y = 3x + 5: 17\n"
     ]
    }
   ],
   "source": [
    "x = 4\n",
    "y = 3 * x + 5\n",
    "print(\"y = 3x + 5:\", y)"
   ]
  },
  {
   "cell_type": "markdown",
   "id": "3cffee55-814f-44ab-9d81-3b5fc2a525d5",
   "metadata": {},
   "source": [
    "# Exercise 50"
   ]
  },
  {
   "cell_type": "code",
   "execution_count": 67,
   "id": "1297758a-ec18-4482-8fac-5fa65f272639",
   "metadata": {},
   "outputs": [
    {
     "name": "stdout",
     "output_type": "stream",
     "text": [
      "Average: 15.0\n"
     ]
    }
   ],
   "source": [
    "number1 = 10\n",
    "number2 = 15\n",
    "number3 = 20\n",
    "average = (number1 + number2 + number3) / 3\n",
    "print(\"Average:\", average)"
   ]
  },
  {
   "cell_type": "code",
   "execution_count": null,
   "id": "242714cd-1ee2-4158-893e-539dba773e12",
   "metadata": {},
   "outputs": [],
   "source": []
  }
 ],
 "metadata": {
  "kernelspec": {
   "display_name": "Python [conda env:base] *",
   "language": "python",
   "name": "conda-base-py"
  },
  "language_info": {
   "codemirror_mode": {
    "name": "ipython",
    "version": 3
   },
   "file_extension": ".py",
   "mimetype": "text/x-python",
   "name": "python",
   "nbconvert_exporter": "python",
   "pygments_lexer": "ipython3",
   "version": "3.12.4"
  }
 },
 "nbformat": 4,
 "nbformat_minor": 5
}
